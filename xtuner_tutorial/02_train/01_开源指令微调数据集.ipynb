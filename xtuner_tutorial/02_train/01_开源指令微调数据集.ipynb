{
 "cells": [
  {
   "cell_type": "markdown",
   "metadata": {},
   "source": [
    "# 开源指令微调数据集"
   ]
  },
  {
   "cell_type": "markdown",
   "metadata": {},
   "source": [
    "## 加载数据集\n",
    "在配置文件中修改data_path为指定的数据集即可\n",
    "```\n",
    "data_path = 'timdettmers/openassistant-guanaco'\n",
    "train_dataset = dict(\n",
    "    type=process_hf_dataset,\n",
    "    dataset=dict(type=load_dataset, path=data_path),\n",
    "    ...)\n",
    "```"
   ]
  },
  {
   "cell_type": "markdown",
   "metadata": {},
   "source": [
    "## 字段格式\n",
    "将数据集格式转换为模型需要的格式\n",
    "```\n",
    "from xtuner.dataset.map_fns import oasst1_map_fn\n",
    "train_dataset = dict(\n",
    "    type=process_hf_dataset,\n",
    "    ...\n",
    "    dataset_map_fn=oasst1_map_fn,\n",
    "    ...)\n",
    "```"
   ]
  },
  {
   "cell_type": "code",
   "execution_count": null,
   "metadata": {},
   "outputs": [],
   "source": [
    "def oasst1_map_fn(example):\n",
    "    r\"\"\"Example before preprocessing:\n",
    "        example['text'] = ('### Human: Can you explain xxx'\n",
    "                           '### Assistant: Sure! xxx'\n",
    "                           '### Human: I didn't understand how xxx'\n",
    "                           '### Assistant: It has to do with a process xxx.')\n",
    "\n",
    "    Example after preprocessing:\n",
    "        example['conversation'] = [\n",
    "            {\n",
    "                'input': 'Can you explain xxx',\n",
    "                'output': 'Sure! xxx'\n",
    "            },\n",
    "            {\n",
    "                'input': 'I didn't understand how xxx',\n",
    "                'output': 'It has to do with a process xxx.'\n",
    "            }\n",
    "        ]\n",
    "    \"\"\"\n",
    "    data = []\n",
    "    for sentence in example['text'].strip().split('###'):\n",
    "        sentence = sentence.strip()\n",
    "        if sentence[:6] == 'Human:':\n",
    "            data.append(sentence[6:].strip())\n",
    "        elif sentence[:10] == 'Assistant:':\n",
    "            data.append(sentence[10:].strip())\n",
    "    if len(data) % 2:\n",
    "        # The last round of conversation solely consists of input\n",
    "        # without any output.\n",
    "        # Discard the input part of the last round, as this part is ignored in\n",
    "        # the loss calculation.\n",
    "        data.pop()\n",
    "    conversation = []\n",
    "    for i in range(0, len(data), 2):\n",
    "        single_turn_conversation = {'input': data[i], 'output': data[i + 1]}\n",
    "        conversation.append(single_turn_conversation)\n",
    "    return {'conversation': conversation}"
   ]
  },
  {
   "cell_type": "markdown",
   "metadata": {},
   "source": [
    "## 训练"
   ]
  },
  {
   "cell_type": "markdown",
   "metadata": {},
   "source": [
    "单机单卡  \n",
    "xtuner train ./config.py --deepspeed deepspeed_zero2"
   ]
  },
  {
   "cell_type": "markdown",
   "metadata": {},
   "source": [
    "单机多卡  \n",
    "NPROC_PER_NODE=${GPU_NUM} xtuner train ./config.py --deepspeed deepspeed_zero2"
   ]
  },
  {
   "cell_type": "markdown",
   "metadata": {},
   "source": [
    "### 多机多卡"
   ]
  },
  {
   "cell_type": "markdown",
   "metadata": {},
   "source": [
    "torchrun"
   ]
  },
  {
   "cell_type": "code",
   "execution_count": null,
   "metadata": {},
   "outputs": [],
   "source": [
    "# excuete on node 0\n",
    "NPROC_PER_NODE=8 NNODES=2 PORT=$PORT ADDR=$NODE_0_ADDR NODE_RANK=0 xtuner train mixtral_8x7b_instruct_full_oasst1_e3 --deepspeed deepspeed_zero2\n",
    "\n",
    "# excuete on node 1\n",
    "NPROC_PER_NODE=8 NNODES=2 PORT=$PORT ADDR=$NODE_0_ADDR NODE_RANK=1 xtuner train mixtral_8x7b_instruct_full_oasst1_e3 --deepspeed deepspeed_zero2"
   ]
  },
  {
   "cell_type": "markdown",
   "metadata": {},
   "source": [
    "slurm"
   ]
  },
  {
   "cell_type": "code",
   "execution_count": null,
   "metadata": {},
   "outputs": [],
   "source": [
    "srun -p $PARTITION --nodes=2 --gres=gpu:8 --ntasks-per-node=8 xtuner train internlm2_chat_7b_qlora_oasst1_e3 --launcher slurm --deepspeed deepspeed_zero2"
   ]
  },
  {
   "cell_type": "markdown",
   "metadata": {},
   "source": [
    "## 模型转换"
   ]
  },
  {
   "cell_type": "code",
   "execution_count": null,
   "metadata": {},
   "outputs": [],
   "source": [
    "xtuner convert pth_to_hf ${CONFIG_NAME_OR_PATH} ${PTH} ${SAVE_PATH}\n",
    "# 例如：xtuner convert pth_to_hf ./config.py ./iter_500.pth ./iter_500_hf"
   ]
  },
  {
   "cell_type": "markdown",
   "metadata": {},
   "source": [
    "## 模型合并"
   ]
  },
  {
   "cell_type": "code",
   "execution_count": null,
   "metadata": {},
   "outputs": [],
   "source": [
    "xtuner convert merge ${LLM} ${ADAPTER_PATH} ${SAVE_PATH}\n",
    "# 例如：xtuner convert merge internlm/internlm2-chat-7b ./iter_500_hf ./iter_500_merged_llm"
   ]
  },
  {
   "cell_type": "markdown",
   "metadata": {},
   "source": [
    "## 对话"
   ]
  },
  {
   "cell_type": "code",
   "execution_count": null,
   "metadata": {},
   "outputs": [],
   "source": [
    "xtuner chat ${NAME_OR_PATH_TO_LLM} --adapter ${NAME_OR_PATH_TO_ADAPTER} --prompt-template ${PROMPT_TEMPLATE} [optional arguments]"
   ]
  },
  {
   "cell_type": "code",
   "execution_count": null,
   "metadata": {},
   "outputs": [],
   "source": [
    "xtuner chat internlm2/internlm2-chat-7b --adapter ./iter_500_hf --prompt-template internlm2_chat\n",
    "xtuner chat ./iter_500_merged_llm --prompt-template internlm2_chat"
   ]
  },
  {
   "cell_type": "markdown",
   "metadata": {},
   "source": []
  }
 ],
 "metadata": {
  "language_info": {
   "name": "python"
  }
 },
 "nbformat": 4,
 "nbformat_minor": 2
}
