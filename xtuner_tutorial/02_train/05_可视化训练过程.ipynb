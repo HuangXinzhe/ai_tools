{
 "cells": [
  {
   "cell_type": "markdown",
   "metadata": {},
   "source": [
    "# 可视化训练过程\n",
    "wandb"
   ]
  },
  {
   "cell_type": "code",
   "execution_count": null,
   "metadata": {},
   "outputs": [],
   "source": [
    "!pip install wandb\n",
    "!wandb login"
   ]
  },
  {
   "cell_type": "markdown",
   "metadata": {},
   "source": [
    "```\n",
    "# set visualizer\n",
    "+ from mmengine.visualization import Visualizer, WandbVisBackend\n",
    "- visualizer = None\n",
    "+ visualizer = dict(type=Visualizer, vis_backends=[dict(type=WandbVisBackend)])\n",
    "\n",
    "\n",
    "\n",
    "\n",
    "\n",
    "# set visualizer\n",
    "- visualizer = None\n",
    "+ from mmengine.visualization import Visualizer, WandbVisBackend\n",
    "+ visualizer = dict(\n",
    "+   type=Visualizer,\n",
    "+   vis_backends=[\n",
    "+       dict(type=WandbVisBackend, init_kwargs=dict(project='toy-example'))])\n",
    "```"
   ]
  },
  {
   "cell_type": "markdown",
   "metadata": {},
   "source": [
    "- project\n",
    "- name\n",
    "- group"
   ]
  }
 ],
 "metadata": {
  "language_info": {
   "name": "python"
  }
 },
 "nbformat": 4,
 "nbformat_minor": 2
}
