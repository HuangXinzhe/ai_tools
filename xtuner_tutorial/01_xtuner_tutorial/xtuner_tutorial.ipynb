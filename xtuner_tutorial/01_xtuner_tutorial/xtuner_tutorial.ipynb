{
 "cells": [
  {
   "cell_type": "code",
   "execution_count": null,
   "id": "b53911a5-bbdf-468f-8ccb-82aec880662f",
   "metadata": {},
   "outputs": [],
   "source": [
    "\"\"\"\n",
    "conda create --name xtuner-env python=3.10 -y\n",
    "conda activate xtuner-env\n",
    "\n",
    "pip install -U 'xtuner[deepspeed]'\n",
    "\n",
    "验证是否安装正确，打印配置文件\n",
    "xtuner list-cfg\n",
    "\"\"\""
   ]
  }
 ],
 "metadata": {
  "kernelspec": {
   "display_name": "Python 3 (ipykernel)",
   "language": "python",
   "name": "python3"
  },
  "language_info": {
   "codemirror_mode": {
    "name": "ipython",
    "version": 3
   },
   "file_extension": ".py",
   "mimetype": "text/x-python",
   "name": "python",
   "nbconvert_exporter": "python",
   "pygments_lexer": "ipython3",
   "version": "3.12.3"
  }
 },
 "nbformat": 4,
 "nbformat_minor": 5
}
