{
 "cells": [
  {
   "cell_type": "code",
   "execution_count": null,
   "metadata": {},
   "outputs": [],
   "source": [
    "!pip install mem0ai"
   ]
  },
  {
   "cell_type": "code",
   "execution_count": 1,
   "metadata": {},
   "outputs": [],
   "source": [
    "import os\n",
    "from dotenv import load_dotenv, find_dotenv\n",
    "_ = load_dotenv(find_dotenv())\n",
    "\n",
    "\n",
    "os.environ['OPENAI_API_KEY'] = os.getenv('OPENAI_API_KEY')\n",
    "os.environ['OPENAI_API_BASE'] = os.getenv('OPENAI_API_BASE')"
   ]
  },
  {
   "cell_type": "code",
   "execution_count": 2,
   "metadata": {},
   "outputs": [],
   "source": [
    "from mem0 import Memory\n",
    "\n",
    "m = Memory()"
   ]
  },
  {
   "cell_type": "code",
   "execution_count": null,
   "metadata": {},
   "outputs": [],
   "source": [
    "# For a user\n",
    "result = m.add(\"Likes to play cricket on weekends\",\n",
    "               user_id=\"alice\", metadata={\"category\": \"hobbies\"})\n",
    "print(result)"
   ]
  },
  {
   "cell_type": "code",
   "execution_count": null,
   "metadata": {},
   "outputs": [],
   "source": [
    "[\n",
    "  {\n",
    "    'id': 'm1',\n",
    "    'event': 'add',\n",
    "    'data': 'Likes to play cricket on weekends'\n",
    "  }\n",
    "]"
   ]
  },
  {
   "cell_type": "code",
   "execution_count": null,
   "metadata": {},
   "outputs": [],
   "source": [
    "# Get all memories\n",
    "all_memories = m.get_all()\n",
    "print(all_memories)"
   ]
  },
  {
   "cell_type": "code",
   "execution_count": null,
   "metadata": {},
   "outputs": [],
   "source": [
    "[\n",
    "    {\n",
    "        'id': 'm1',\n",
    "        'text': 'Likes to play cricket on weekends',\n",
    "        'metadata': {\n",
    "            'data': 'Likes to play cricket on weekends',\n",
    "            'category': 'hobbies'\n",
    "        }\n",
    "    },\n",
    "    # ... other memories ...\n",
    "]"
   ]
  },
  {
   "cell_type": "code",
   "execution_count": null,
   "metadata": {},
   "outputs": [],
   "source": [
    "# Get a single memory by ID\n",
    "specific_memory = m.get(\"m1\")\n",
    "print(specific_memory)"
   ]
  },
  {
   "cell_type": "code",
   "execution_count": null,
   "metadata": {},
   "outputs": [],
   "source": [
    "{\n",
    "    'id': 'm1',\n",
    "    'text': 'Likes to play cricket on weekends',\n",
    "    'metadata': {\n",
    "        'data': 'Likes to play cricket on weekends',\n",
    "        'category': 'hobbies'\n",
    "    }\n",
    "}"
   ]
  },
  {
   "cell_type": "code",
   "execution_count": null,
   "metadata": {},
   "outputs": [],
   "source": [
    "related_memories = m.search(query=\"What are Alice's hobbies?\", user_id=\"alice\")\n",
    "print(related_memories)"
   ]
  },
  {
   "cell_type": "code",
   "execution_count": null,
   "metadata": {},
   "outputs": [],
   "source": [
    "[\n",
    "    {\n",
    "        'id': 'm1',\n",
    "        'text': 'Likes to play cricket on weekends',\n",
    "        'metadata': {\n",
    "            'data': 'Likes to play cricket on weekends',\n",
    "            'category': 'hobbies'\n",
    "        },\n",
    "        'score': 0.85  # Similarity score\n",
    "    },\n",
    "    # ... other related memories ...\n",
    "]"
   ]
  },
  {
   "cell_type": "code",
   "execution_count": null,
   "metadata": {},
   "outputs": [],
   "source": [
    "result = m.update(memory_id=\"m1\", data=\"Likes to play tennis on weekends\")\n",
    "print(result)"
   ]
  },
  {
   "cell_type": "code",
   "execution_count": null,
   "metadata": {},
   "outputs": [],
   "source": [
    "{\n",
    "    'id': 'm1',\n",
    "    'event': 'update',\n",
    "    'data': 'Likes to play tennis on weekends'\n",
    "}"
   ]
  },
  {
   "cell_type": "code",
   "execution_count": null,
   "metadata": {},
   "outputs": [],
   "source": [
    "history = m.history(memory_id=\"m1\")\n",
    "print(history)"
   ]
  },
  {
   "cell_type": "code",
   "execution_count": null,
   "metadata": {},
   "outputs": [],
   "source": [
    "[\n",
    "    {\n",
    "        'id': 'h1',\n",
    "        'memory_id': 'm1',\n",
    "        'prev_value': None,\n",
    "        'new_value': 'Likes to play cricket on weekends',\n",
    "        'event': 'add',\n",
    "        'timestamp': '2024-07-14 10:00:54.466687',\n",
    "        'is_deleted': 0\n",
    "    },\n",
    "    {\n",
    "        'id': 'h2',\n",
    "        'memory_id': 'm1',\n",
    "        'prev_value': 'Likes to play cricket on weekends',\n",
    "        'new_value': 'Likes to play tennis on weekends',\n",
    "        'event': 'update',\n",
    "        'timestamp': '2024-07-14 10:15:17.230943',\n",
    "        'is_deleted': 0\n",
    "    }\n",
    "]"
   ]
  },
  {
   "cell_type": "code",
   "execution_count": null,
   "metadata": {},
   "outputs": [],
   "source": [
    "m.delete(memory_id=\"m1\")  # Delete a memory\n",
    "\n",
    "m.delete_all(user_id=\"alice\")  # Delete all memories"
   ]
  },
  {
   "cell_type": "code",
   "execution_count": null,
   "metadata": {},
   "outputs": [],
   "source": [
    "m.reset()  # Reset all memories"
   ]
  }
 ],
 "metadata": {
  "kernelspec": {
   "display_name": "base",
   "language": "python",
   "name": "python3"
  },
  "language_info": {
   "codemirror_mode": {
    "name": "ipython",
    "version": 3
   },
   "file_extension": ".py",
   "mimetype": "text/x-python",
   "name": "python",
   "nbconvert_exporter": "python",
   "pygments_lexer": "ipython3",
   "version": "3.9.12"
  }
 },
 "nbformat": 4,
 "nbformat_minor": 2
}
