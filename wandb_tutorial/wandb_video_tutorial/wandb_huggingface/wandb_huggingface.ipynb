{
 "cells": [
  {
   "cell_type": "code",
   "execution_count": null,
   "metadata": {},
   "outputs": [],
   "source": [
    "import wandb\n",
    "wandb.login()"
   ]
  },
  {
   "cell_type": "code",
   "execution_count": null,
   "metadata": {},
   "outputs": [],
   "source": [
    "# Optional: log both gradients and parameters\n",
    "%env WANDB_WATCH=all\n",
    "\n",
    "# 其他参数参考文档\n",
    "# https://docs.wandb.ai/guides/integrations/huggingface"
   ]
  },
  {
   "cell_type": "code",
   "execution_count": null,
   "metadata": {},
   "outputs": [],
   "source": [
    "%env WANDB_PROJECT=huggingface-demo\n",
    "%env TASK_NAME=MRPC\n",
    "\n",
    "!python run_glue.py \\\n",
    "  --model_name_or_path bert-base-uncased \\\n",
    "  --task_name $TASK_NAME \\\n",
    "  --do_train \\\n",
    "  --do_eval \\\n",
    "  --max_seq_length 256 \\\n",
    "  --per_device_train_batch_size 32 \\\n",
    "  --learning_rate 2e-4 \\\n",
    "  --num_train_epochs 3 \\\n",
    "  --output_dir /tmp/$TASK_NAME/ \\\n",
    "  --overwrite_output_dir \\\n",
    "  --logging_steps 50"
   ]
  }
 ],
 "metadata": {
  "language_info": {
   "name": "python"
  }
 },
 "nbformat": 4,
 "nbformat_minor": 2
}
